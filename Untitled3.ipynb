{
 "cells": [
  {
   "cell_type": "code",
   "execution_count": 2,
   "id": "a1f4178f",
   "metadata": {},
   "outputs": [],
   "source": [
    "from bs4 import BeautifulSoup\n",
    "import urllib3\n",
    "import sys\n",
    "import requests\n",
    "import time\n",
    "\n"
   ]
  },
  {
   "cell_type": "code",
   "execution_count": 3,
   "id": "c38b178e",
   "metadata": {},
   "outputs": [],
   "source": [
    "HEADER = \"year, month, day, HOME_TEAM, AWAY_TEAM, \" \\\n",
    "        + \"total_minutes, fg, fg_attempts, fg_percentage, 3p, 3p_attempts, 3p_percentage, ft, \" \\\n",
    "        + \"ft_attempts, ft_percentage, orb, drb, trb, ast, stl, blk, tov, pf, pts, total_minutes(2), \" \\\n",
    "        + \"ts, efg, three_ar, ft_ar, orb_p, drb_p, trb_p, ast_p, stl_p, blk_p, tov_p, usg_p, or, dr, \" \\\n",
    "        + \"a.total_minutes, a.fg, a.fg_attempts, a.fg_percentage, a.3p, a.3p_attempts, a.3p_percentage, \" \\\n",
    "        + \"a.ft, a.ft_attempts, a.ft_percentage, a.orb, a.drb, a.trb, a.ast, a.stl, a.blk, a.tov, a.pf, \" \\\n",
    "        + \"a.pts, a.total_minutes(2), a.ts, a.efg, a.three_ar, a.ft_ar, a.orb_p, a.drb_p, a.trb_p, \" \\\n",
    "        + \"a.ast_p, a.stl_p, a.blk_p, a.tov_p, a.usg_p, a.or, a.dr\""
   ]
  },
  {
   "cell_type": "code",
   "execution_count": 5,
   "id": "b3e3b1fa",
   "metadata": {},
   "outputs": [],
   "source": [
    "BASE_URL = \"http://www.basketball-reference.com\"\n",
    "\n",
    "YEAR_ONE_MONTHS = (\"october\", \"november\", \"december\")\n",
    "YEAR_TWO_MONTHS = (\"january\", \"february\", \"march\", \"april\")\n",
    "\n",
    "VALID_YEARS = range(1976,2021)\n"
   ]
  },
  {
   "cell_type": "code",
   "execution_count": 6,
   "id": "a50d3449",
   "metadata": {},
   "outputs": [],
   "source": [
    "def get_schedule_URL(year, month) :\n",
    "    if month in YEAR_ONE_MONTHS :\n",
    "        return BASE_URL + \"/leagues/NBA_\" + str(year) + \"_games-\" + month + \".html\"\n",
    "    else :\n",
    "        year = year + 1\n",
    "        return BASE_URL + \"/leagues/NBA_\" + str(year) + \"_games-\" + month + \".html\"\n",
    "\n",
    "  "
   ]
  },
  {
   "cell_type": "code",
   "execution_count": 7,
   "id": "eb0ae313",
   "metadata": {},
   "outputs": [],
   "source": [
    "def get_season_URLs(year) :\n",
    "    if not year in VALID_YEARS :\n",
    "        print  (\"{} is an invalid year\".format(year))\n",
    "        return\n",
    "    base_url_schedule_1 = BASE_URL + \"/leagues/NBA_\" + str(year) + \"_games-\"\n",
    "    url_extensions = YEAR_ONE_MONTHS + YEAR_TWO_MONTHS\n",
    "    urls = []\n",
    "    for extension in url_extensions :\n",
    "        schedule_url = get_schedule_URL(year, extension)\n",
    "        page = requests.get(schedule_url)\n",
    "        doc = BeautifulSoup(page.content, \"html.parser\")\n",
    "        schedule_table = doc.find_all(\"tbody\")[0]\n",
    "        box_score_els = schedule_table.find_all(attrs={\"data-stat\": \"box_score_text\"})\n",
    "\n",
    "        for el in box_score_els :\n",
    "            urls.append(BASE_URL + el.find(\"a\").get('href'))\n",
    "    return urls"
   ]
  },
  {
   "cell_type": "code",
   "execution_count": 8,
   "id": "1c7fab0b",
   "metadata": {},
   "outputs": [],
   "source": [
    "#jo = []\n",
    "#for year in range(2010,2020):\n",
    "    #print(year)\n",
    "    #jo.append(get_season_URLs(year))\n",
    "    "
   ]
  },
  {
   "cell_type": "code",
   "execution_count": 9,
   "id": "9eac9b73",
   "metadata": {},
   "outputs": [],
   "source": [
    "#jo"
   ]
  },
  {
   "cell_type": "code",
   "execution_count": 10,
   "id": "6932810a",
   "metadata": {},
   "outputs": [],
   "source": [
    "#url = 'http://www.basketball-reference.com/boxscores/200910270CLE.html'"
   ]
  },
  {
   "cell_type": "code",
   "execution_count": 11,
   "id": "7ba06e39",
   "metadata": {
    "scrolled": true
   },
   "outputs": [],
   "source": [
    "# Converts full team name to abbreviated name. Returns error string if\n",
    "# full name does not exist\n",
    "def abbrev_team(team_name) :\n",
    "    return {\n",
    "        \"Atlanta Hawks\" : \"ATL\",\n",
    "        \"Brooklyn Nets\" : \"BRK\",\n",
    "        \"Brooklyn Nets\" : \"NJN\",\n",
    "        \"Boston Celtics\" :  \"BOS\",\n",
    "        \"Charlotte Bobcats\" : \"CHA\",\n",
    "        \"Charlotte Hornets\" : \"CHO\",\n",
    "        \"Chicago Bulls\" : \"CHI\",\n",
    "        \"Cleveland Cavaliers\" : \"CLE\",\n",
    "        \"Dallas Mavericks\" : \"DAL\",\n",
    "        \"Denver Nuggets\" : \"DEN\",\n",
    "        \"Detroit Pistons\" : \"DET\",\n",
    "        \"Golden State Warriors\" : \"GSW\",\n",
    "        \"Houston Rockets\" : \"HOU\",\n",
    "        \"Indiana Pacers\" : \"IND\",\n",
    "        \"Los Angeles Clippers\" : \"LAC\",\n",
    "        \"Los Angeles Lakers\" : \"LAL\",\n",
    "        \"Memphis Grizzlies\" : \"MEM\",\n",
    "        \"Miami Heat\" : \"MIA\",\n",
    "        \"Milwaukee Bucks\" : \"MIL\",\n",
    "        \"Minnesota Timberwolves\" : \"MIN\",\n",
    "        \"New Orleans Pelicans\" : \"NOP\",\n",
    "        \"New Orleans Hornets\" : \"NOH\",\n",
    "        \"New York Knicks\" : \"NYK\",\n",
    "        \"Oklahoma City Thunder\" : \"OKC\",\n",
    "        \"Orlando Magic\" : \"ORL\",\n",
    "        \"Philadelphia 76ers\" : \"PHI\",\n",
    "        \"Phoenix Suns\" : \"PHO\",\n",
    "        \"Portland Trail Blazers\" : \"POR\",\n",
    "        \"Sacramento Kings\" : \"SAC\",\n",
    "        \"San Antonio Spurs\" : \"SAS\",\n",
    "        \"Toronto Raptors\" : \"TOR\",\n",
    "        \"Utah Jazz\" : \"UTA\",\n",
    "        \"Washington Wizards\" : \"WAS\"\n",
    "    }.get(team_name, \"ERROR - abbrev_team\")\n",
    "\n",
    "\n"
   ]
  },
  {
   "cell_type": "code",
   "execution_count": 12,
   "id": "530bf4ff",
   "metadata": {},
   "outputs": [],
   "source": [
    "# Scrapes a box score from a game with the given url. Records in \n",
    "# file f. Returns False and doesn't record if it's a Playoff game,\n",
    "# returns True otherwise\n",
    "def scrape_game(url, f) :\n",
    "    time.sleep(5)\n",
    "    html = requests.get(url)\n",
    "    doc = BeautifulSoup(html.content, \"html.parser\")\n",
    "    if not len(doc.find_all(attrs={\"data-label\":\"All Games in Series\"})) == 0 :\n",
    "        return False\n",
    "    line = \"\"\n",
    "\n",
    "    # Find Away Team\n",
    "    breadcrumbs = doc.find_all(\"div\", class_=\"breadcrumbs\")[0]\n",
    "    game_head = breadcrumbs.find('strong').get_text()\n",
    "    away_team_name = game_head[:game_head.find(\" at \")]\n",
    "\n",
    "    # Find Game Date\n",
    "    year = url[url.find('res/')+4:url.find('res/')+8]\n",
    "    month = url[url.find(year)+4:url.find(year)+6]\n",
    "    day = url[url.find(year)+6:url.find(year)+8]\n",
    "\n",
    "    # Find Home Team\n",
    "    home_team_abbrev = url[url.find(year)+9:url.find(year)+12]\n",
    "\n",
    "    # Record Stats\n",
    "    tables = doc.find_all(\"tfoot\")\n",
    "    line = line + year + \", \" + month + \", \" + day + \", \" + home_team_abbrev \\\n",
    "                + \", \" + abbrev_team(str(away_team_name)) + \", \"\n",
    "    for table in tables :\n",
    "        stats = table.find_all(\"td\")\n",
    "        for stat in stats :\n",
    "            if(stat.get_text() != \"\") : # Trad Stat table has an empty column\n",
    "                line = line + stat.get_text() + \", \"\n",
    "    f.write(line[:-2] + \"\\n\")\n",
    "    return True"
   ]
  },
  {
   "cell_type": "code",
   "execution_count": 17,
   "id": "6d79c1c3",
   "metadata": {},
   "outputs": [],
   "source": [
    "# Runs scraper on given years and records in file titled \"nba_data.csv\"\n",
    "def run_season(years) :\n",
    "    f = open(\"nba_data.csv\", \"w\")\n",
    "    f.write(HEADER + \"\\n\")\n",
    "    for year in years :\n",
    "        print(year)\n",
    "        game_count = 1\n",
    "        urls = get_season_URLs(year)\n",
    "        for url in urls :\n",
    "            if not scrape_game(url, f) :\n",
    "                break\n",
    "            if game_count%50 == 0:\n",
    "                print (str(year-1) + \"-\" + str(year) + \" Game no.\" \\\n",
    "                                + str(game_count) + \" done.\")\n",
    "            game_count = game_count + 1\n",
    "    print (\"Data Collection Complete - nba_data.csv\")\n",
    "    f.close()"
   ]
  },
  {
   "cell_type": "code",
   "execution_count": 18,
   "id": "5ac6ee56",
   "metadata": {
    "scrolled": false
   },
   "outputs": [
    {
     "name": "stdout",
     "output_type": "stream",
     "text": [
      "2010\n",
      "2009-2010 Game no.50 done.\n",
      "2009-2010 Game no.100 done.\n",
      "2009-2010 Game no.150 done.\n",
      "2009-2010 Game no.200 done.\n",
      "2009-2010 Game no.250 done.\n",
      "2009-2010 Game no.300 done.\n",
      "2009-2010 Game no.350 done.\n",
      "2009-2010 Game no.400 done.\n",
      "2009-2010 Game no.450 done.\n",
      "2009-2010 Game no.500 done.\n",
      "2009-2010 Game no.550 done.\n",
      "2009-2010 Game no.600 done.\n",
      "2009-2010 Game no.650 done.\n",
      "2009-2010 Game no.700 done.\n",
      "2009-2010 Game no.750 done.\n",
      "2009-2010 Game no.800 done.\n",
      "2009-2010 Game no.850 done.\n",
      "2009-2010 Game no.900 done.\n",
      "2009-2010 Game no.950 done.\n",
      "2009-2010 Game no.1000 done.\n",
      "2009-2010 Game no.1050 done.\n"
     ]
    },
    {
     "ename": "IndexError",
     "evalue": "list index out of range",
     "output_type": "error",
     "traceback": [
      "\u001b[0;31m---------------------------------------------------------------------------\u001b[0m",
      "\u001b[0;31mIndexError\u001b[0m                                Traceback (most recent call last)",
      "\u001b[0;32m/var/folders/vf/lp3kj1q91l57j31y7dk2nb0w0000gn/T/ipykernel_87092/2286428047.py\u001b[0m in \u001b[0;36m<module>\u001b[0;34m\u001b[0m\n\u001b[0;32m----> 1\u001b[0;31m \u001b[0mrun_season\u001b[0m\u001b[0;34m(\u001b[0m\u001b[0mrange\u001b[0m\u001b[0;34m(\u001b[0m\u001b[0;36m2010\u001b[0m\u001b[0;34m,\u001b[0m\u001b[0;36m2011\u001b[0m\u001b[0;34m)\u001b[0m\u001b[0;34m)\u001b[0m\u001b[0;34m\u001b[0m\u001b[0;34m\u001b[0m\u001b[0m\n\u001b[0m",
      "\u001b[0;32m/var/folders/vf/lp3kj1q91l57j31y7dk2nb0w0000gn/T/ipykernel_87092/2546947770.py\u001b[0m in \u001b[0;36mrun_season\u001b[0;34m(years)\u001b[0m\n\u001b[1;32m      8\u001b[0m         \u001b[0murls\u001b[0m \u001b[0;34m=\u001b[0m \u001b[0mget_season_URLs\u001b[0m\u001b[0;34m(\u001b[0m\u001b[0myear\u001b[0m\u001b[0;34m)\u001b[0m\u001b[0;34m\u001b[0m\u001b[0;34m\u001b[0m\u001b[0m\n\u001b[1;32m      9\u001b[0m         \u001b[0;32mfor\u001b[0m \u001b[0murl\u001b[0m \u001b[0;32min\u001b[0m \u001b[0murls\u001b[0m \u001b[0;34m:\u001b[0m\u001b[0;34m\u001b[0m\u001b[0;34m\u001b[0m\u001b[0m\n\u001b[0;32m---> 10\u001b[0;31m             \u001b[0;32mif\u001b[0m \u001b[0;32mnot\u001b[0m \u001b[0mscrape_game\u001b[0m\u001b[0;34m(\u001b[0m\u001b[0murl\u001b[0m\u001b[0;34m,\u001b[0m \u001b[0mf\u001b[0m\u001b[0;34m)\u001b[0m \u001b[0;34m:\u001b[0m\u001b[0;34m\u001b[0m\u001b[0;34m\u001b[0m\u001b[0m\n\u001b[0m\u001b[1;32m     11\u001b[0m                 \u001b[0;32mbreak\u001b[0m\u001b[0;34m\u001b[0m\u001b[0;34m\u001b[0m\u001b[0m\n\u001b[1;32m     12\u001b[0m             \u001b[0;32mif\u001b[0m \u001b[0mgame_count\u001b[0m\u001b[0;34m%\u001b[0m\u001b[0;36m50\u001b[0m \u001b[0;34m==\u001b[0m \u001b[0;36m0\u001b[0m\u001b[0;34m:\u001b[0m\u001b[0;34m\u001b[0m\u001b[0;34m\u001b[0m\u001b[0m\n",
      "\u001b[0;32m/var/folders/vf/lp3kj1q91l57j31y7dk2nb0w0000gn/T/ipykernel_87092/4090857537.py\u001b[0m in \u001b[0;36mscrape_game\u001b[0;34m(url, f)\u001b[0m\n\u001b[1;32m     11\u001b[0m \u001b[0;34m\u001b[0m\u001b[0m\n\u001b[1;32m     12\u001b[0m     \u001b[0;31m# Find Away Team\u001b[0m\u001b[0;34m\u001b[0m\u001b[0;34m\u001b[0m\u001b[0m\n\u001b[0;32m---> 13\u001b[0;31m     \u001b[0mbreadcrumbs\u001b[0m \u001b[0;34m=\u001b[0m \u001b[0mdoc\u001b[0m\u001b[0;34m.\u001b[0m\u001b[0mfind_all\u001b[0m\u001b[0;34m(\u001b[0m\u001b[0;34m\"div\"\u001b[0m\u001b[0;34m,\u001b[0m \u001b[0mclass_\u001b[0m\u001b[0;34m=\u001b[0m\u001b[0;34m\"breadcrumbs\"\u001b[0m\u001b[0;34m)\u001b[0m\u001b[0;34m[\u001b[0m\u001b[0;36m0\u001b[0m\u001b[0;34m]\u001b[0m\u001b[0;34m\u001b[0m\u001b[0;34m\u001b[0m\u001b[0m\n\u001b[0m\u001b[1;32m     14\u001b[0m     \u001b[0mgame_head\u001b[0m \u001b[0;34m=\u001b[0m \u001b[0mbreadcrumbs\u001b[0m\u001b[0;34m.\u001b[0m\u001b[0mfind\u001b[0m\u001b[0;34m(\u001b[0m\u001b[0;34m'strong'\u001b[0m\u001b[0;34m)\u001b[0m\u001b[0;34m.\u001b[0m\u001b[0mget_text\u001b[0m\u001b[0;34m(\u001b[0m\u001b[0;34m)\u001b[0m\u001b[0;34m\u001b[0m\u001b[0;34m\u001b[0m\u001b[0m\n\u001b[1;32m     15\u001b[0m     \u001b[0maway_team_name\u001b[0m \u001b[0;34m=\u001b[0m \u001b[0mgame_head\u001b[0m\u001b[0;34m[\u001b[0m\u001b[0;34m:\u001b[0m\u001b[0mgame_head\u001b[0m\u001b[0;34m.\u001b[0m\u001b[0mfind\u001b[0m\u001b[0;34m(\u001b[0m\u001b[0;34m\" at \"\u001b[0m\u001b[0;34m)\u001b[0m\u001b[0;34m]\u001b[0m\u001b[0;34m\u001b[0m\u001b[0;34m\u001b[0m\u001b[0m\n",
      "\u001b[0;31mIndexError\u001b[0m: list index out of range"
     ]
    }
   ],
   "source": [
    "run_season(range(2010,2011))"
   ]
  },
  {
   "cell_type": "code",
   "execution_count": 14,
   "id": "c63d6d5b",
   "metadata": {},
   "outputs": [
    {
     "ename": "NameError",
     "evalue": "name 'start_year' is not defined",
     "output_type": "error",
     "traceback": [
      "\u001b[0;31m---------------------------------------------------------------------------\u001b[0m",
      "\u001b[0;31mNameError\u001b[0m                                 Traceback (most recent call last)",
      "\u001b[0;32m/var/folders/vf/lp3kj1q91l57j31y7dk2nb0w0000gn/T/ipykernel_87092/1846086281.py\u001b[0m in \u001b[0;36m<module>\u001b[0;34m\u001b[0m\n\u001b[1;32m      7\u001b[0m \u001b[0;31m#end_year = int(2020)\u001b[0m\u001b[0;34m\u001b[0m\u001b[0;34m\u001b[0m\u001b[0m\n\u001b[1;32m      8\u001b[0m \u001b[0;34m\u001b[0m\u001b[0m\n\u001b[0;32m----> 9\u001b[0;31m \u001b[0;32mif\u001b[0m \u001b[0mstart_year\u001b[0m \u001b[0;34m>\u001b[0m \u001b[0mend_year\u001b[0m \u001b[0;34m:\u001b[0m\u001b[0;34m\u001b[0m\u001b[0;34m\u001b[0m\u001b[0m\n\u001b[0m\u001b[1;32m     10\u001b[0m     \u001b[0msys\u001b[0m\u001b[0;34m.\u001b[0m\u001b[0mexit\u001b[0m\u001b[0;34m(\u001b[0m\u001b[0;34m\"Error: start_year \"\u001b[0m \u001b[0;34m+\u001b[0m \u001b[0mstr\u001b[0m\u001b[0;34m(\u001b[0m\u001b[0mstart_year\u001b[0m\u001b[0;34m)\u001b[0m \u001b[0;34m+\u001b[0m \u001b[0;34m\" is after end_year \"\u001b[0m \u001b[0;34m+\u001b[0m \u001b[0mstr\u001b[0m\u001b[0;34m(\u001b[0m\u001b[0mend_year\u001b[0m\u001b[0;34m)\u001b[0m\u001b[0;34m)\u001b[0m\u001b[0;34m\u001b[0m\u001b[0;34m\u001b[0m\u001b[0m\n\u001b[1;32m     11\u001b[0m \u001b[0;34m\u001b[0m\u001b[0m\n",
      "\u001b[0;31mNameError\u001b[0m: name 'start_year' is not defined"
     ]
    }
   ],
   "source": [
    "\n",
    "#######\n",
    "# Main #\n",
    " #######\n",
    "\n",
    "# Input Checking\n",
    "#start_year = int(2000)\n",
    "#end_year = int(2020)\n",
    "\n",
    "if start_year > end_year :\n",
    "    sys.exit(\"Error: start_year \" + str(start_year) + \" is after end_year \" + str(end_year))\n",
    "\n",
    "# Run Script\n",
    "if start_year == end_year :\n",
    "    print (\"Running season \" + str(start_year))\n",
    "else :\n",
    "    print(\"Running seasons \" + str(start_year) + \" to \" + str(end_year))\n",
    "\n",
    "# Smoothly catch interrupts\n",
    "try :\n",
    "    run_season(range(start_year, end_year + 1))\n",
    "except KeyboardInterrupt :\n",
    "    print (\"\\nScraping Halted.\\nWarning: nba_data.csv is incomplete.\")\n",
    "\n",
    "sys.exit(0)\n"
   ]
  },
  {
   "cell_type": "markdown",
   "id": "ed8fac37",
   "metadata": {},
   "source": [
    "sys.exit(\"Usage: \" + sys.argv[0] + \" start_year end_year\")"
   ]
  },
  {
   "cell_type": "markdown",
   "id": "da2ca98d",
   "metadata": {},
   "source": [
    "%tb"
   ]
  },
  {
   "cell_type": "code",
   "execution_count": 16,
   "id": "b9954588",
   "metadata": {},
   "outputs": [
    {
     "name": "stdout",
     "output_type": "stream",
     "text": [
      "2020\n",
      "2021\n",
      "2022\n",
      "2023\n"
     ]
    }
   ],
   "source": [
    "for i in range(2020,2024):\n",
    "    print(i)"
   ]
  }
 ],
 "metadata": {
  "kernelspec": {
   "display_name": "Python 3 (ipykernel)",
   "language": "python",
   "name": "python3"
  },
  "language_info": {
   "codemirror_mode": {
    "name": "ipython",
    "version": 3
   },
   "file_extension": ".py",
   "mimetype": "text/x-python",
   "name": "python",
   "nbconvert_exporter": "python",
   "pygments_lexer": "ipython3",
   "version": "3.9.7"
  }
 },
 "nbformat": 4,
 "nbformat_minor": 5
}
