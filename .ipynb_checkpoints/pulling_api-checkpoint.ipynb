{
 "cells": [
  {
   "cell_type": "code",
   "execution_count": null,
   "metadata": {},
   "outputs": [],
   "source": [
    "from urllib.request import urlopen\n",
    "import json\n",
    "import pandas as pd\n",
    "from pandas import json_normalize\n",
    "import datetime\n",
    "import matplotlib as plt\n",
    "import geopandas as gpd\n",
    "import descartes \n",
    "from shapely.geometry import point , Polygon\n",
    "\n",
    "%matplotlib inline"
   ]
  },
  {
   "cell_type": "code",
   "execution_count": null,
   "metadata": {},
   "outputs": [],
   "source": [
    "col = ('OBJECTID', 'TICKET_NUMBER', 'ISSUE_DATE', 'ISSUE_TIME',\n",
    "       'ISSUING_AGENCY_CODE', 'ISSUING_AGENCY_NAME', 'ISSUING_AGENCY_SHORT',\n",
    "       'VIOLATION_CODE', 'VIOLATION_PROC_DESC', 'LOCATION', 'PLATE_STATE',\n",
    "       'VEHICLE_TYPE', 'MULTI_OWNER_NUMBER', 'DISPOSITION_CODE',\n",
    "       'DISPOSITION_TYPE', 'DISPOSITION_DESC', 'DISPOSITION_DATE',\n",
    "       'FINE_AMOUNT', 'TOTAL_PAID', 'PENALTY_1', 'PENALTY_2', 'PENALTY_3',\n",
    "       'PENALTY_4', 'PENALTY_5', 'XCOORD', 'YCOORD', 'LATITUDE', 'LONGITUDE',\n",
    "       'MAR_ID', 'GIS_LAST_MOD_DTTM')"
   ]
  },
  {
   "cell_type": "code",
   "execution_count": null,
   "metadata": {},
   "outputs": [],
   "source": [
    "def downny(year, month):\n",
    "    url = 'https://maps2.dcgis.dc.gov/dcgis/rest/services/DCGIS_DATA/Violations_Parking_{}/MapServer/{}/query?where=1%3D1&outFields=*&outSR=4326&f=json'.format(year,month)\n",
    "    response = urlopen(url)\n",
    "    data_json = json.loads(response.read())\n",
    "    df2 = json_normalize(data_json['features']) \n",
    "    df2.columns = [i.replace(\"attributes.\", \"\") for i in df2.columns]\n",
    "    df2[\"ISSUE_DATE\"] = pd.to_datetime(df2[\"ISSUE_DATE\"], unit='ms')\n",
    "    return(df2)"
   ]
  },
  {
   "cell_type": "code",
   "execution_count": null,
   "metadata": {},
   "outputs": [],
   "source": [
    "all_res = []\n"
   ]
  },
  {
   "cell_type": "code",
   "execution_count": null,
   "metadata": {},
   "outputs": [],
   "source": [
    "d = datetime.datetime.now().strftime(\"%m\")\n",
    "d = int(d)\n",
    "d = d-1\n",
    "d"
   ]
  },
  {
   "cell_type": "code",
   "execution_count": null,
   "metadata": {},
   "outputs": [],
   "source": [
    "for i in range(2015,2023):\n",
    "    for j in range(0,12):\n",
    "        try:\n",
    "            data = downny(year= i, month= j)\n",
    "            all_res.append(data)\n",
    "            \n",
    "        except Exception:\n",
    "            pass"
   ]
  },
  {
   "cell_type": "code",
   "execution_count": null,
   "metadata": {},
   "outputs": [],
   "source": [
    "df_res = pd.DataFrame(data=None, columns= col)\n",
    "df_res = pd.concat(all_res)\n",
    "df_res.head()"
   ]
  },
  {
   "cell_type": "code",
   "execution_count": null,
   "metadata": {},
   "outputs": [],
   "source": [
    "df_res['n'] = 1\n",
    "df_res['month'] = pd.DatetimeIndex(df_res['ISSUE_DATE']).month\n",
    "df_res['year'] = pd.DatetimeIndex(df_res['ISSUE_DATE']).year\n",
    "df_res['combo'] = str(df_res['month'] )+ '-' + str(df_res['year'])\n",
    "\n"
   ]
  },
  {
   "cell_type": "code",
   "execution_count": null,
   "metadata": {},
   "outputs": [],
   "source": [
    "df_res.head()"
   ]
  },
  {
   "cell_type": "markdown",
   "metadata": {},
   "source": [
    "!conda install --yes plotly \n",
    "!conda install --yes plotly.express"
   ]
  },
  {
   "cell_type": "code",
   "execution_count": null,
   "metadata": {},
   "outputs": [],
   "source": [
    "import plotly.express as px\n"
   ]
  },
  {
   "cell_type": "code",
   "execution_count": null,
   "metadata": {},
   "outputs": [],
   "source": [
    "df_res.year.value_counts().plot(kind='bar')\n"
   ]
  },
  {
   "cell_type": "code",
   "execution_count": null,
   "metadata": {},
   "outputs": [],
   "source": [
    "df_res.describe().transpose()"
   ]
  },
  {
   "cell_type": "code",
   "execution_count": null,
   "metadata": {},
   "outputs": [],
   "source": [
    "\n",
    "# Read file using gpd.read_file()\n",
    "data = gpd.read_file('./Washington_DC_Boundary/Washington_DC_Boundary.shp')"
   ]
  },
  {
   "cell_type": "code",
   "execution_count": null,
   "metadata": {},
   "outputs": [],
   "source": [
    "fig, ax = plt.pyplot.subplots(figsize=(20,20))\n",
    "df_res.plot(ax = ax , alpha = 0.4, color = 'grey')"
   ]
  }
 ],
 "metadata": {
  "interpreter": {
   "hash": "40d3a090f54c6569ab1632332b64b2c03c39dcf918b08424e98f38b5ae0af88f"
  },
  "kernelspec": {
   "display_name": "Python 3 (ipykernel)",
   "language": "python",
   "name": "python3"
  },
  "language_info": {
   "codemirror_mode": {
    "name": "ipython",
    "version": 3
   },
   "file_extension": ".py",
   "mimetype": "text/x-python",
   "name": "python",
   "nbconvert_exporter": "python",
   "pygments_lexer": "ipython3",
   "version": "3.9.7"
  }
 },
 "nbformat": 4,
 "nbformat_minor": 2
}
