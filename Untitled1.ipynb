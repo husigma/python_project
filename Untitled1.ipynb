{
 "cells": [
  {
   "cell_type": "code",
   "execution_count": 3,
   "metadata": {},
   "outputs": [],
   "source": [
    "import numpy as np\n",
    "import matplotlib.pyplot as plt\n",
    "\n",
    "from scipy.optimize import linprog\n",
    "import pandas as pd"
   ]
  },
  {
   "cell_type": "code",
   "execution_count": 7,
   "metadata": {},
   "outputs": [
    {
     "data": {
      "text/html": [
       "<div>\n",
       "<style scoped>\n",
       "    .dataframe tbody tr th:only-of-type {\n",
       "        vertical-align: middle;\n",
       "    }\n",
       "\n",
       "    .dataframe tbody tr th {\n",
       "        vertical-align: top;\n",
       "    }\n",
       "\n",
       "    .dataframe thead th {\n",
       "        text-align: right;\n",
       "    }\n",
       "</style>\n",
       "<table border=\"1\" class=\"dataframe\">\n",
       "  <thead>\n",
       "    <tr style=\"text-align: right;\">\n",
       "      <th></th>\n",
       "      <th>Position</th>\n",
       "      <th>Name + ID</th>\n",
       "      <th>Name</th>\n",
       "      <th>ID</th>\n",
       "      <th>Roster Position</th>\n",
       "      <th>Salary</th>\n",
       "      <th>Game Info</th>\n",
       "      <th>TeamAbbrev</th>\n",
       "      <th>AvgPointsPerGame</th>\n",
       "    </tr>\n",
       "  </thead>\n",
       "  <tbody>\n",
       "    <tr>\n",
       "      <th>0</th>\n",
       "      <td>PF/C</td>\n",
       "      <td>Giannis Antetokounmpo (21674676)</td>\n",
       "      <td>Giannis Antetokounmpo</td>\n",
       "      <td>21674676</td>\n",
       "      <td>PF/C/F/UTIL</td>\n",
       "      <td>12200</td>\n",
       "      <td>MIL@UTA 03/14/2022 10:00PM ET</td>\n",
       "      <td>MIL</td>\n",
       "      <td>57.97</td>\n",
       "    </tr>\n",
       "    <tr>\n",
       "      <th>1</th>\n",
       "      <td>PF/C</td>\n",
       "      <td>LeBron James (21674476)</td>\n",
       "      <td>LeBron James</td>\n",
       "      <td>21674476</td>\n",
       "      <td>PF/C/F/UTIL</td>\n",
       "      <td>12000</td>\n",
       "      <td>TOR@LAL 03/14/2022 10:30PM ET</td>\n",
       "      <td>LAL</td>\n",
       "      <td>54.88</td>\n",
       "    </tr>\n",
       "    <tr>\n",
       "      <th>2</th>\n",
       "      <td>PG</td>\n",
       "      <td>Stephen Curry (21674525)</td>\n",
       "      <td>Stephen Curry</td>\n",
       "      <td>21674525</td>\n",
       "      <td>PG/G/UTIL</td>\n",
       "      <td>10000</td>\n",
       "      <td>WAS@GSW 03/14/2022 10:00PM ET</td>\n",
       "      <td>GSW</td>\n",
       "      <td>46.14</td>\n",
       "    </tr>\n",
       "    <tr>\n",
       "      <th>3</th>\n",
       "      <td>PF</td>\n",
       "      <td>DeMar DeRozan (21674549)</td>\n",
       "      <td>DeMar DeRozan</td>\n",
       "      <td>21674549</td>\n",
       "      <td>PF/F/UTIL</td>\n",
       "      <td>9800</td>\n",
       "      <td>CHI@SAC 03/14/2022 10:00PM ET</td>\n",
       "      <td>CHI</td>\n",
       "      <td>44.29</td>\n",
       "    </tr>\n",
       "    <tr>\n",
       "      <th>4</th>\n",
       "      <td>PG</td>\n",
       "      <td>De'Aaron Fox (21674906)</td>\n",
       "      <td>De'Aaron Fox</td>\n",
       "      <td>21674906</td>\n",
       "      <td>PG/G/UTIL</td>\n",
       "      <td>9700</td>\n",
       "      <td>CHI@SAC 03/14/2022 10:00PM ET</td>\n",
       "      <td>SAC</td>\n",
       "      <td>38.73</td>\n",
       "    </tr>\n",
       "  </tbody>\n",
       "</table>\n",
       "</div>"
      ],
      "text/plain": [
       "  Position                         Name + ID                   Name        ID  \\\n",
       "0     PF/C  Giannis Antetokounmpo (21674676)  Giannis Antetokounmpo  21674676   \n",
       "1     PF/C           LeBron James (21674476)           LeBron James  21674476   \n",
       "2       PG          Stephen Curry (21674525)          Stephen Curry  21674525   \n",
       "3       PF          DeMar DeRozan (21674549)          DeMar DeRozan  21674549   \n",
       "4       PG           De'Aaron Fox (21674906)           De'Aaron Fox  21674906   \n",
       "\n",
       "  Roster Position  Salary                      Game Info TeamAbbrev  \\\n",
       "0     PF/C/F/UTIL   12200  MIL@UTA 03/14/2022 10:00PM ET        MIL   \n",
       "1     PF/C/F/UTIL   12000  TOR@LAL 03/14/2022 10:30PM ET        LAL   \n",
       "2       PG/G/UTIL   10000  WAS@GSW 03/14/2022 10:00PM ET        GSW   \n",
       "3       PF/F/UTIL    9800  CHI@SAC 03/14/2022 10:00PM ET        CHI   \n",
       "4       PG/G/UTIL    9700  CHI@SAC 03/14/2022 10:00PM ET        SAC   \n",
       "\n",
       "   AvgPointsPerGame  \n",
       "0             57.97  \n",
       "1             54.88  \n",
       "2             46.14  \n",
       "3             44.29  \n",
       "4             38.73  "
      ]
     },
     "execution_count": 7,
     "metadata": {},
     "output_type": "execute_result"
    }
   ],
   "source": [
    "data = pd.read_csv('/Users/kurtbembridge/Downloads/DKSalaries.csv')\n",
    "data.head()"
   ]
  },
  {
   "cell_type": "code",
   "execution_count": 9,
   "metadata": {},
   "outputs": [
    {
     "data": {
      "text/html": [
       "<div>\n",
       "<style scoped>\n",
       "    .dataframe tbody tr th:only-of-type {\n",
       "        vertical-align: middle;\n",
       "    }\n",
       "\n",
       "    .dataframe tbody tr th {\n",
       "        vertical-align: top;\n",
       "    }\n",
       "\n",
       "    .dataframe thead th {\n",
       "        text-align: right;\n",
       "    }\n",
       "</style>\n",
       "<table border=\"1\" class=\"dataframe\">\n",
       "  <thead>\n",
       "    <tr style=\"text-align: right;\">\n",
       "      <th></th>\n",
       "      <th>count</th>\n",
       "      <th>mean</th>\n",
       "      <th>std</th>\n",
       "      <th>min</th>\n",
       "      <th>25%</th>\n",
       "      <th>50%</th>\n",
       "      <th>75%</th>\n",
       "      <th>max</th>\n",
       "    </tr>\n",
       "  </thead>\n",
       "  <tbody>\n",
       "    <tr>\n",
       "      <th>ID</th>\n",
       "      <td>190.0</td>\n",
       "      <td>2.167478e+07</td>\n",
       "      <td>183.208568</td>\n",
       "      <td>21674469.0</td>\n",
       "      <td>2.167462e+07</td>\n",
       "      <td>2.167477e+07</td>\n",
       "      <td>21674932.50</td>\n",
       "      <td>21675098.00</td>\n",
       "    </tr>\n",
       "    <tr>\n",
       "      <th>Salary</th>\n",
       "      <td>190.0</td>\n",
       "      <td>4.153684e+03</td>\n",
       "      <td>1957.771680</td>\n",
       "      <td>3000.0</td>\n",
       "      <td>3.000000e+03</td>\n",
       "      <td>3.000000e+03</td>\n",
       "      <td>4300.00</td>\n",
       "      <td>12200.00</td>\n",
       "    </tr>\n",
       "    <tr>\n",
       "      <th>AvgPointsPerGame</th>\n",
       "      <td>190.0</td>\n",
       "      <td>1.425011e+01</td>\n",
       "      <td>13.045313</td>\n",
       "      <td>0.0</td>\n",
       "      <td>4.175000e+00</td>\n",
       "      <td>1.147500e+01</td>\n",
       "      <td>20.49</td>\n",
       "      <td>57.97</td>\n",
       "    </tr>\n",
       "  </tbody>\n",
       "</table>\n",
       "</div>"
      ],
      "text/plain": [
       "                  count          mean          std         min           25%  \\\n",
       "ID                190.0  2.167478e+07   183.208568  21674469.0  2.167462e+07   \n",
       "Salary            190.0  4.153684e+03  1957.771680      3000.0  3.000000e+03   \n",
       "AvgPointsPerGame  190.0  1.425011e+01    13.045313         0.0  4.175000e+00   \n",
       "\n",
       "                           50%          75%          max  \n",
       "ID                2.167477e+07  21674932.50  21675098.00  \n",
       "Salary            3.000000e+03      4300.00     12200.00  \n",
       "AvgPointsPerGame  1.147500e+01        20.49        57.97  "
      ]
     },
     "execution_count": 9,
     "metadata": {},
     "output_type": "execute_result"
    }
   ],
   "source": [
    "data.describe().transpose()"
   ]
  },
  {
   "cell_type": "code",
   "execution_count": 11,
   "metadata": {},
   "outputs": [],
   "source": [
    "#!pip install pulp"
   ]
  },
  {
   "cell_type": "code",
   "execution_count": 12,
   "metadata": {},
   "outputs": [
    {
     "data": {
      "text/plain": [
       "PG/G/UTIL         33\n",
       "C/UTIL            31\n",
       "PF/F/UTIL         27\n",
       "PG/SG/G/UTIL      24\n",
       "SG/SF/F/G/UTIL    21\n",
       "PF/C/F/UTIL       14\n",
       "SG/G/UTIL         14\n",
       "SF/F/UTIL         14\n",
       "SF/PF/F/UTIL      11\n",
       "PG/SF/F/G/UTIL     1\n",
       "Name: Roster Position, dtype: int64"
      ]
     },
     "execution_count": 12,
     "metadata": {},
     "output_type": "execute_result"
    }
   ],
   "source": [
    "data['Roster Position'].value_counts()"
   ]
  },
  {
   "cell_type": "code",
   "execution_count": null,
   "metadata": {},
   "outputs": [],
   "source": []
  }
 ],
 "metadata": {
  "kernelspec": {
   "display_name": "Python 3 (ipykernel)",
   "language": "python",
   "name": "python3"
  },
  "language_info": {
   "codemirror_mode": {
    "name": "ipython",
    "version": 3
   },
   "file_extension": ".py",
   "mimetype": "text/x-python",
   "name": "python",
   "nbconvert_exporter": "python",
   "pygments_lexer": "ipython3",
   "version": "3.9.7"
  }
 },
 "nbformat": 4,
 "nbformat_minor": 4
}
